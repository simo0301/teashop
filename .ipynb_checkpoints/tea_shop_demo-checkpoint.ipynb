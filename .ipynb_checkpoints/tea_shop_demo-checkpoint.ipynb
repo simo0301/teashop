{
 "cells": [
  {
   "cell_type": "markdown",
   "id": "476630f4",
   "metadata": {},
   "source": [
    "# Practice for Azure AI and LUIS"
   ]
  },
  {
   "cell_type": "markdown",
   "id": "df48aa40",
   "metadata": {},
   "source": [
    "20220415 練習\n",
    "我是一家 XXX 手搖飲料店的老闆，最近我們想要引入語音點餐服務，\n",
    "想麻煩AI班的同學使用Azure AI 服務，將我們的需求流程完成\n",
    "\n",
    "流程如下：\n",
    "語音轉字串給LUIS，客戶透過語音的方式點餐，\n",
    "EX：I want a bottle of milk tea.\n",
    "透過Azure語音紀錄點餐內容(印出)\n",
    "機器人自動回覆(語音)\n",
    "語音：Your milk tea has already been ordered."
   ]
  },
  {
   "cell_type": "code",
   "execution_count": 1,
   "id": "b9531206",
   "metadata": {},
   "outputs": [],
   "source": [
    "from azure.cognitiveservices.language.luis.runtime import LUISRuntimeClient\n",
    "from msrest.authentication import CognitiveServicesCredentials\n",
    "import datetime, json, os, time\n",
    "import azure.cognitiveservices.speech as speechsdk"
   ]
  },
  {
   "cell_type": "code",
   "execution_count": 2,
   "id": "2ab84916",
   "metadata": {},
   "outputs": [],
   "source": [
    "speech_key, service_region = \"a0453824b284450abc1c5508f98e7dc0\", \"eastus\"\n",
    "luisAppID = '9fbd4931-2a0f-42df-8be8-da0bb3ed7f5e'\n",
    "runtime_key = 'd688ec74663c49c19a472b9719ca7c94'\n",
    "runtime_endpoint = 'https://luis0415-authoring.cognitiveservices.azure.com/'"
   ]
  },
  {
   "cell_type": "code",
   "execution_count": 3,
   "id": "7818197d",
   "metadata": {},
   "outputs": [],
   "source": [
    "#將語音轉成文字(英文)\n",
    "def speech_to_text():\n",
    "\n",
    "    speech_config = speechsdk.SpeechConfig(subscription=speech_key, region=service_region)\n",
    "    speech_recognizer = speechsdk.SpeechRecognizer(speech_config=speech_config)\n",
    "    print(\"Say something...\")\n",
    "    result = speech_recognizer.recognize_once()\n",
    "\n",
    "    # Check the result\n",
    "    if result.reason == speechsdk.ResultReason.TranslatedSpeech:\n",
    "        print(\"RECOGNIZED '{}': {}\".format(fromLanguage, result.text))\n",
    "    elif result.reason == speechsdk.ResultReason.NoMatch:\n",
    "        print(\"NOMATCH: Speech could not be recognized: {}\".format(result.no_match_details))\n",
    "    elif result.reason == speechsdk.ResultReason.Canceled:\n",
    "        print(\"CANCELED: Reason={}\".format(result.cancellation_details.reason))\n",
    "        if result.cancellation_details.reason == speechsdk.CancellationReason.Error:\n",
    "            print(\"CANCELED: ErrorDetails={}\".format(result.cancellation_details.error_details))\n",
    "    return result.text\n",
    "\n"
   ]
  },
  {
   "cell_type": "code",
   "execution_count": 4,
   "id": "0be2400c",
   "metadata": {},
   "outputs": [],
   "source": [
    "#使用LUIS抓取關鍵字\n",
    "# production or staging\n",
    "luisSlotName = 'production'\n",
    "\n",
    "# Instantiate a LUIS runtime client\n",
    "clientRuntime = LUISRuntimeClient(runtime_endpoint, CognitiveServicesCredentials(runtime_key))\n",
    "\n",
    "def predict(app_id, slot_name):\n",
    "\n",
    "    request = { \"query\" : speech_to_text() }\n",
    "    response = clientRuntime.prediction.get_slot_prediction(app_id=app_id, slot_name=slot_name, \\\n",
    "                                                            prediction_request=request)\n",
    "\n",
    "    if response.prediction.entities == {}:\n",
    "        print(\"Sorry, we don't have this drink.\")\n",
    "        print(\"Please try other drink.\")\n",
    "        return(predict(luisAppID, luisSlotName))\n",
    "    else:\n",
    "        return (response.prediction.entities['facet'][0])\n",
    "    \n"
   ]
  },
  {
   "cell_type": "code",
   "execution_count": 6,
   "id": "a989ab43",
   "metadata": {},
   "outputs": [
    {
     "name": "stdout",
     "output_type": "stream",
     "text": [
      "What do you want to drink today? \n",
      "Say something...\n",
      "Sorry, we don't have this drink.\n",
      "Please try other drink.\n",
      "Say something...\n",
      "Sorry, we don't have this drink.\n",
      "Please try other drink.\n",
      "Say something...\n",
      "Speech synthesized to speaker for text [Your Coffee has already been ordered.]\n"
     ]
    }
   ],
   "source": [
    "#將文字轉回語音\n",
    "speech_config = speechsdk.SpeechConfig(subscription=speech_key, region=service_region)\n",
    "speech_config.speech_recognition = \"zh-TW\"\n",
    "# Creates a speech synthesizer using the default speaker as audio output.\n",
    "speech_synthesizer = speechsdk.SpeechSynthesizer(speech_config=speech_config)\n",
    "\n",
    "# Receives a text from console input.\n",
    "print(\"What do you want to drink today? \")\n",
    "text = \"Your {} has already been ordered.\".format(predict(luisAppID, luisSlotName))\n",
    "\n",
    "\n",
    "result = speech_synthesizer.speak_text_async(text).get()\n",
    "\n",
    "#Checks result.\n",
    "if result.reason == speechsdk.ResultReason.SynthesizingAudioCompleted:\n",
    "    print(\"Speech synthesized to speaker for text [{}]\".format(text))\n",
    "elif result.reason == speechsdk.ResultReason.Canceled:\n",
    "    cancellation_details = result.cancellation_details\n",
    "    print(\"Speech synthesis canceled: {}\".format(cancellation_details.reason))\n",
    "    if cancellation_details.reason == speechsdk.CancellationReason.Error:\n",
    "        if cancellation_details.error_details:\n",
    "            print(\"Error details: {}\".format(cancellation_details.error_details))\n",
    "    print(\"Did you update the subscription info?\")"
   ]
  },
  {
   "cell_type": "code",
   "execution_count": null,
   "id": "1083863b",
   "metadata": {},
   "outputs": [],
   "source": []
  }
 ],
 "metadata": {
  "kernelspec": {
   "display_name": "Python 3 (ipykernel)",
   "language": "python",
   "name": "python3"
  },
  "language_info": {
   "codemirror_mode": {
    "name": "ipython",
    "version": 3
   },
   "file_extension": ".py",
   "mimetype": "text/x-python",
   "name": "python",
   "nbconvert_exporter": "python",
   "pygments_lexer": "ipython3",
   "version": "3.9.7"
  }
 },
 "nbformat": 4,
 "nbformat_minor": 5
}
